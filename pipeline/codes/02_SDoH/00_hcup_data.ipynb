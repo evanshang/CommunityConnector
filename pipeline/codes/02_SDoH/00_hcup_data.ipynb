{
 "cells": [
  {
   "cell_type": "code",
   "execution_count": 122,
   "metadata": {},
   "outputs": [],
   "source": [
    "from selenium import webdriver\n",
    "import time\n",
    "from os import listdir\n",
    "import regex as re\n",
    "from stat import S_ISREG, ST_CTIME, ST_MODE, ST_MTIME\n",
    "import shutil"
   ]
  },
  {
   "cell_type": "code",
   "execution_count": null,
   "metadata": {},
   "outputs": [],
   "source": [
    "analysis_selection = \"DP\"\n",
    "\n",
    "classifier_selection = \"Major Diagnostic Categories (MDC)\"\n",
    "# other options: Medicare-Severity Diagnosis Related Groups (MS-DRG)\n",
    "\n",
    "diagnosis_selection = \"11 Diseases & Disorders Of The Kidney & Urinary Tract\"\n",
    "# options for MS-DRG diagnoses:\n",
    "# kidney: 8, 652, 656-661, 686-690, 695-696\n",
    "# obesity: 619-620"
   ]
  },
  {
   "cell_type": "code",
   "execution_count": 119,
   "metadata": {},
   "outputs": [],
   "source": [
    "# need to have chromedriver installed in current directory\n",
    "driver = webdriver.Chrome()\n",
    "driver.get(\"https://hcupnet.ahrq.gov/#setup\")\n",
    "time.sleep(4)\n",
    "create_analysis = driver.find_element_by_class_name(\"create-analysis\")\n",
    "create_analysis.click()\n",
    "time.sleep(2)\n",
    "community = driver.find_element_by_id(\"DS_COMM\")\n",
    "community.click()\n",
    "single_year = driver.find_element_by_id(\"YEAR_SINGLE\")\n",
    "single_year.click()\n",
    "year = driver.find_element_by_class_name(\"dropdown-toggle\")\n",
    "year.click()\n",
    "latest_year = driver.find_element_by_link_text(\"2016\")\n",
    "latest_year.click()\n",
    "area = driver.find_element_by_class_name(\"bs-placeholder\")\n",
    "area.click()\n",
    "\n",
    "# could do other states here if necessary\n",
    "state = driver.find_element_by_link_text(\"Colorado\")\n",
    "state.click()\n",
    "counties = driver.find_element_by_id(\"CL_COUNTY\")\n",
    "counties.click()\n",
    "\n",
    "analysis = driver.find_element_by_id(analysis_selection)\n",
    "analysis.click()\n",
    "time.sleep(1)\n",
    "\n",
    "if analysis_selection == \"DP\":\n",
    "    classify = driver.find_element_by_class_name(\"bs-placeholder\")\n",
    "    classify.click()\n",
    "    classifier = driver.find_element_by_link_text(classifier_selection)\n",
    "    classifier.click()\n",
    "    time.sleep(2)\n",
    "    diagnosis = driver.find_element_by_class_name(\"bs-placeholder\")\n",
    "    diagnosis.click()\n",
    "    diagnosis_selection = driver.find_element_by_link_text(diagnosis_selection)\n",
    "    diagnosis_selection.click()\n",
    "    \n",
    "# If Quality Indicators --> Preventative/Pediatric --> Composite/Acute/Diabetes\n",
    "# If All Stays --> Create Analysis\n",
    "else:\n",
    "    pass\n",
    "analysis = driver.find_element_by_class_name(\"btn-block\")\n",
    "analysis.click()\n",
    "time.sleep(1)\n",
    "agree = driver.find_element_by_id(\"accept-dua\")\n",
    "agree.click()\n",
    "time.sleep(2)\n",
    "csv = driver.find_element_by_class_name(\"file-text-o\")\n",
    "csv.click()\n",
    "time.sleep(1)"
   ]
  },
  {
   "cell_type": "code",
   "execution_count": 120,
   "metadata": {},
   "outputs": [
    {
     "name": "stdout",
     "output_type": "stream",
     "text": [
      "export-2019-09-12-T-23-50-08.csv\n"
     ]
    }
   ],
   "source": [
    "dirpath = 'C:/Users/kskvoretz/Downloads/'\n",
    "files = listdir(dirpath)\n",
    "files = [x for x in files if re.search(\"export\", x)] \n",
    "entries = (os.path.join(dirpath, fn) for fn in os.listdir(dirpath))\n",
    "entries = ((os.stat(path), path) for path in entries)\n",
    "# leave only regular files, insert creation date\n",
    "\n",
    "#NOTE: on Windows `ST_CTIME` is a creation date \n",
    "#NOTE: use `ST_MTIME` to sort by a modification date\n",
    "entries = ((stat[ST_MTIME], path)\n",
    "           for stat, path in entries if S_ISREG(stat[ST_MODE]))\n",
    "count = 0\n",
    "for cdate, path in sorted(entries, reverse=True):\n",
    "    while count == 0:\n",
    "        filename = os.path.basename(path)\n",
    "        count += 1\n",
    "        \n",
    "shutil.move(dirpath + filename, \"../input/HCUP_1.csv\")"
   ]
  }
 ],
 "metadata": {
  "kernelspec": {
   "display_name": "AHRQ-ebGvUS5S",
   "language": "python",
   "name": "ahrq-ebgvus5s"
  },
  "language_info": {
   "codemirror_mode": {
    "name": "ipython",
    "version": 3
   },
   "file_extension": ".py",
   "mimetype": "text/x-python",
   "name": "python",
   "nbconvert_exporter": "python",
   "pygments_lexer": "ipython3",
   "version": "3.7.3"
  }
 },
 "nbformat": 4,
 "nbformat_minor": 2
}
