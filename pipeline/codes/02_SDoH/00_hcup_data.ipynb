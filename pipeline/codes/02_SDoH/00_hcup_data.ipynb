{
 "cells": [
  {
   "cell_type": "code",
   "execution_count": null,
   "metadata": {},
   "outputs": [],
   "source": [
    "from selenium import webdriver\n",
    "import time\n",
    "from os import listdir\n",
    "import regex as re\n",
    "from stat import S_ISREG, ST_CTIME, ST_MODE, ST_MTIME\n",
    "import shutil\n",
    "import func_timeout\n",
    "\n",
    "dirpath = 'C:/Users/kskvoretz/Downloads/'\n",
    "n_drive = 'N:\\Transfer\\KSkvoretz\\AHRQ\\data\\\\02_SDoH\\HCUP'\n",
    "state = \"Colorado\"\n",
    "\n",
    "# need to have chromedriver installed in current directory\n",
    "#     options = webdriver.ChromeOptions();\n",
    "#     options.add_argument('headless');\n",
    "#     options.add_argument('window-size=1200x600'); # optional\n",
    "\n",
    "# #     from selenium.webdriver.chrome.options import Options\n",
    "#     options = Options()\n",
    "#     options.add_argument(\"--headless\")\n",
    "#     self.driver = webdriver.Chrome(options=options)"
   ]
  },
  {
   "cell_type": "markdown",
   "metadata": {},
   "source": [
    "# Selections for pulling data from the portal"
   ]
  },
  {
   "cell_type": "code",
   "execution_count": 6,
   "metadata": {
    "scrolled": true
   },
   "outputs": [
    {
     "name": "stdout",
     "output_type": "stream",
     "text": [
      "[['DP', 'Major Diagnostic Categories (MDC)', '11 Diseases & Disorders Of The Kidney & Urinary Tract'], ['DP', 'Medicare-Severity Diagnosis Related Groups (MS-DRG)', '8 Simultaneous pancreas/kidney trasnplant'], ['DP', 'Medicare-Severity Diagnosis Related Groups (MS-DRG)', '619 O.R. procedures for obesity w mcc'], ['DP', 'Medicare-Severity Diagnosis Related Groups (MS-DRG)', '620 O.R. procedures for obesity w cc'], ['DP', 'Medicare-Severity Diagnosis Related Groups (MS-DRG)', '652 Kidney transplant'], ['DP', 'Medicare-Severity Diagnosis Related Groups (MS-DRG)', '656 Kidney & ureter procedures for neoplasm w mcc'], ['DP', 'Medicare-Severity Diagnosis Related Groups (MS-DRG)', '657 Kidney & ureter procedures for neoplasm w cc'], ['DP', 'Medicare-Severity Diagnosis Related Groups (MS-DRG)', '658 Kideny & ureter procedures for neoplasm w/o cc/mcc'], ['DP', 'Medicare-Severity Diagnosis Related Groups (MS-DRG)', '659 Kidney & ureter procedures for non-neoplasm w mcc'], ['DP', 'Medicare-Severity Diagnosis Related Groups (MS-DRG)', '660 Kidney & ureter procedures for non-neoplasm w cc'], ['DP', 'Medicare-Severity Diagnosis Related Groups (MS-DRG)', '661 Kidney & ureter procedures for non-neoplasm w/o cc/mcc'], ['DP', 'Medicare-Severity Diagnosis Related Groups (MS-DRG)', '686 Kidney & urinary tract neoplasms w mcc'], ['DP', 'Medicare-Severity Diagnosis Related Groups (MS-DRG)', '687 Kidney & urinary tract neoplasms w cc'], ['DP', 'Medicare-Severity Diagnosis Related Groups (MS-DRG)', '688 Kidney & urinary tract neoplasms w/o cc/mcc'], ['DP', 'Medicare-Severity Diagnosis Related Groups (MS-DRG)', '689 Kidney & urinary tract infections w mcc'], ['DP', 'Medicare-Severity Diagnosis Related Groups (MS-DRG)', '690 Kidney & urinary tract infections w/o mcc'], ['DP', 'Medicare-Severity Diagnosis Related Groups (MS-DRG)', '695 Kidney & urinary tract signs & symptoms w mcc'], ['DP', 'Medicare-Severity Diagnosis Related Groups (MS-DRG)', '696 Kidney & urinary tract signs & symptoms w/o mcc']]\n"
     ]
    }
   ],
   "source": [
    "selections_list = [['DP','Major Diagnostic Categories (MDC)', '11 Diseases & Disorders Of The Kidney & Urinary Tract']]\n",
    "msdrg_selections = ['8 Simultaneous pancreas/kidney trasnplant',\n",
    "                    '619 O.R. procedures for obesity w mcc',\n",
    "                    '620 O.R. procedures for obesity w cc',\n",
    "                    '652 Kidney transplant',\n",
    "                    '656 Kidney & ureter procedures for neoplasm w mcc',\n",
    "                    '657 Kidney & ureter procedures for neoplasm w cc',\n",
    "                    '658 Kideny & ureter procedures for neoplasm w/o cc/mcc',\n",
    "                    '659 Kidney & ureter procedures for non-neoplasm w mcc',\n",
    "                    '660 Kidney & ureter procedures for non-neoplasm w cc',\n",
    "                    '661 Kidney & ureter procedures for non-neoplasm w/o cc/mcc',\n",
    "                    '686 Kidney & urinary tract neoplasms w mcc',\n",
    "                    '687 Kidney & urinary tract neoplasms w cc',\n",
    "                    '688 Kidney & urinary tract neoplasms w/o cc/mcc',\n",
    "                    '689 Kidney & urinary tract infections w mcc',\n",
    "                    '690 Kidney & urinary tract infections w/o mcc',\n",
    "                    '695 Kidney & urinary tract signs & symptoms w mcc',\n",
    "                    '696 Kidney & urinary tract signs & symptoms w/o mcc'\n",
    "                   ]\n",
    "\n",
    "drg = [[\"DP\", \"Medicare-Severity Diagnosis Related Groups (MS-DRG)\", drg] for drg in msdrg_selections]\n",
    "\n",
    "selections_list.extend(drg)\n",
    "print(selections_list)"
   ]
  },
  {
   "cell_type": "code",
   "execution_count": 17,
   "metadata": {},
   "outputs": [
    {
     "ename": "AttributeError",
     "evalue": "module 'signal' has no attribute 'SIGALRM'",
     "output_type": "error",
     "traceback": [
      "\u001b[1;31m---------------------------------------------------------------------------\u001b[0m",
      "\u001b[1;31mAttributeError\u001b[0m                            Traceback (most recent call last)",
      "\u001b[1;32m<ipython-input-17-f828a4d31e0d>\u001b[0m in \u001b[0;36m<module>\u001b[1;34m\u001b[0m\n\u001b[0;32m      5\u001b[0m     \u001b[0mdriver\u001b[0m\u001b[1;33m.\u001b[0m\u001b[0mget\u001b[0m\u001b[1;33m(\u001b[0m\u001b[1;34m\"https://hcupnet.ahrq.gov/#setup\"\u001b[0m\u001b[1;33m)\u001b[0m\u001b[1;33m\u001b[0m\u001b[1;33m\u001b[0m\u001b[0m\n\u001b[0;32m      6\u001b[0m \u001b[1;33m\u001b[0m\u001b[0m\n\u001b[1;32m----> 7\u001b[1;33m \u001b[0mconnect\u001b[0m\u001b[1;33m(\u001b[0m\u001b[1;33m)\u001b[0m\u001b[1;33m\u001b[0m\u001b[1;33m\u001b[0m\u001b[0m\n\u001b[0m",
      "\u001b[1;32m<ipython-input-16-daddc6162150>\u001b[0m in \u001b[0;36mwrapper\u001b[1;34m(*args, **kwargs)\u001b[0m\n\u001b[0;32m     14\u001b[0m \u001b[1;33m\u001b[0m\u001b[0m\n\u001b[0;32m     15\u001b[0m         \u001b[1;32mdef\u001b[0m \u001b[0mwrapper\u001b[0m\u001b[1;33m(\u001b[0m\u001b[1;33m*\u001b[0m\u001b[0margs\u001b[0m\u001b[1;33m,\u001b[0m \u001b[1;33m**\u001b[0m\u001b[0mkwargs\u001b[0m\u001b[1;33m)\u001b[0m\u001b[1;33m:\u001b[0m\u001b[1;33m\u001b[0m\u001b[1;33m\u001b[0m\u001b[0m\n\u001b[1;32m---> 16\u001b[1;33m             \u001b[0msignal\u001b[0m\u001b[1;33m.\u001b[0m\u001b[0msignal\u001b[0m\u001b[1;33m(\u001b[0m\u001b[0msignal\u001b[0m\u001b[1;33m.\u001b[0m\u001b[0mSIGALRM\u001b[0m\u001b[1;33m,\u001b[0m \u001b[0m_handle_timeout\u001b[0m\u001b[1;33m)\u001b[0m\u001b[1;33m\u001b[0m\u001b[1;33m\u001b[0m\u001b[0m\n\u001b[0m\u001b[0;32m     17\u001b[0m             \u001b[0msignal\u001b[0m\u001b[1;33m.\u001b[0m\u001b[0malarm\u001b[0m\u001b[1;33m(\u001b[0m\u001b[0mseconds\u001b[0m\u001b[1;33m)\u001b[0m\u001b[1;33m\u001b[0m\u001b[1;33m\u001b[0m\u001b[0m\n\u001b[0;32m     18\u001b[0m             \u001b[1;32mtry\u001b[0m\u001b[1;33m:\u001b[0m\u001b[1;33m\u001b[0m\u001b[1;33m\u001b[0m\u001b[0m\n",
      "\u001b[1;31mAttributeError\u001b[0m: module 'signal' has no attribute 'SIGALRM'"
     ]
    }
   ],
   "source": [
    "# test connection\n",
    "def connect():\n",
    "    driver = webdriver.Chrome()\n",
    "    driver.get(\"https://hcupnet.ahrq.gov/#setup\")\n",
    "\n",
    "connect()"
   ]
  },
  {
   "cell_type": "code",
   "execution_count": 3,
   "metadata": {},
   "outputs": [],
   "source": [
    "def hcup_pull(state, analysis_selection, classifier_selection, diagnosis_selection, num):\n",
    "\n",
    "    \"\"\"\n",
    "    Navigates through hcup data portal and downloads data\n",
    "    \n",
    "    Args:\n",
    "        state (string)\n",
    "        analysis_selection (string)\n",
    "        classifier_selection (string)\n",
    "        diagnosis_selection (string)\n",
    "        \n",
    "    Returns:\n",
    "        \n",
    "    \"\"\"\n",
    "    \n",
    "    driver = webdriver.Chrome()\n",
    "    driver.get(\"https://hcupnet.ahrq.gov/#setup\")\n",
    "    time.sleep(4)\n",
    "    \n",
    "    create_analysis = driver.find_element_by_class_name(\"create-analysis\")\n",
    "    create_analysis.click()\n",
    "    time.sleep(2)\n",
    "    community = driver.find_element_by_id(\"DS_COMM\")\n",
    "    community.click()\n",
    "    single_year = driver.find_element_by_id(\"YEAR_SINGLE\")\n",
    "    single_year.click()\n",
    "    year = driver.find_element_by_class_name(\"dropdown-toggle\")\n",
    "    year.click()\n",
    "    latest_year = driver.find_element_by_link_text(\"2016\")\n",
    "    latest_year.click()\n",
    "    area = driver.find_element_by_class_name(\"bs-placeholder\")\n",
    "    area.click()\n",
    "\n",
    "    # could do other states here if necessary\n",
    "    state = driver.find_element_by_link_text(state)\n",
    "    state.click()\n",
    "    counties = driver.find_element_by_id(\"CL_COUNTY\")\n",
    "    counties.click()\n",
    "\n",
    "    analysis = driver.find_element_by_id(analysis_selection)\n",
    "    analysis.click()\n",
    "    time.sleep(1)\n",
    "\n",
    "    if analysis_selection == \"DP\":\n",
    "#         classify = driver.find_element_by_class_name(\"bs-placeholder\")\n",
    "        classify = driver.find_elementy_by_class_name(\"filter-option pull-left\")\n",
    "        classify.click()\n",
    "        classifier = driver.find_element_by_link_text(classifier_selection)\n",
    "        classifier.click()\n",
    "        time.sleep(2)\n",
    "        diagnosis = driver.find_element_by_class_name(\"bs-placeholder\")\n",
    "        diagnosis.click()\n",
    "        diagnosis_selection = driver.find_element_by_link_text(diagnosis_selection)\n",
    "        diagnosis_selection.click()\n",
    "\n",
    "    # If Quality Indicators --> Preventative/Pediatric --> Composite/Acute/Diabetes\n",
    "    # If All Stays --> Create Analysis\n",
    "    else:\n",
    "        pass\n",
    "    analysis = driver.find_element_by_class_name(\"btn-block\")\n",
    "    analysis.click()\n",
    "    time.sleep(1)\n",
    "    agree = driver.find_element_by_id(\"accept-dua\")\n",
    "    agree.click()\n",
    "    time.sleep(2)\n",
    "    csv = driver.find_element_by_class_name(\"file-text-o\")\n",
    "    csv.click()\n",
    "    time.sleep(1)\n",
    "    \n",
    "    files = listdir(dirpath)\n",
    "    files = [x for x in files if re.search(\"export\", x)] \n",
    "    entries = (os.path.join(dirpath, fn) for fn in os.listdir(dirpath))\n",
    "    entries = ((os.stat(path), path) for path in entries)\n",
    "    # leave only regular files, insert creation date\n",
    "\n",
    "    #NOTE: on Windows `ST_CTIME` is a creation date \n",
    "    #NOTE: use `ST_MTIME` to sort by a modification date\n",
    "    entries = ((stat[ST_MTIME], path)\n",
    "               for stat, path in entries if S_ISREG(stat[ST_MODE]))\n",
    "    count = 0\n",
    "    for cdate, path in sorted(entries, reverse=True):\n",
    "        while count == 0:\n",
    "            filename = os.path.basename(path)\n",
    "            count += 1\n",
    "\n",
    "    shutil.move(dirpath + filename, os.path.join(n_drive, f\"HCUP_{num}.csv\"))"
   ]
  },
  {
   "cell_type": "code",
   "execution_count": 5,
   "metadata": {},
   "outputs": [
    {
     "ename": "NoSuchWindowException",
     "evalue": "Message: no such window: target window already closed\nfrom unknown error: web view not found\n  (Session info: chrome=77.0.3865.90)\n",
     "output_type": "error",
     "traceback": [
      "\u001b[1;31m---------------------------------------------------------------------------\u001b[0m",
      "\u001b[1;31mNoSuchWindowException\u001b[0m                     Traceback (most recent call last)",
      "\u001b[1;32m<ipython-input-5-0229a608f62e>\u001b[0m in \u001b[0;36m<module>\u001b[1;34m\u001b[0m\n\u001b[0;32m      2\u001b[0m \u001b[1;32mfor\u001b[0m \u001b[0mparameters\u001b[0m \u001b[1;32min\u001b[0m \u001b[0mselections_list\u001b[0m\u001b[1;33m:\u001b[0m\u001b[1;33m\u001b[0m\u001b[1;33m\u001b[0m\u001b[0m\n\u001b[0;32m      3\u001b[0m     \u001b[1;31m# this is really slow all of a sudden\u001b[0m\u001b[1;33m\u001b[0m\u001b[1;33m\u001b[0m\u001b[1;33m\u001b[0m\u001b[0m\n\u001b[1;32m----> 4\u001b[1;33m     \u001b[0mhcup_pull\u001b[0m\u001b[1;33m(\u001b[0m\u001b[0mstate\u001b[0m\u001b[1;33m,\u001b[0m \u001b[0mparameters\u001b[0m\u001b[1;33m[\u001b[0m\u001b[1;36m0\u001b[0m\u001b[1;33m]\u001b[0m\u001b[1;33m,\u001b[0m \u001b[0mparameters\u001b[0m\u001b[1;33m[\u001b[0m\u001b[1;36m1\u001b[0m\u001b[1;33m]\u001b[0m\u001b[1;33m,\u001b[0m \u001b[0mparameters\u001b[0m\u001b[1;33m[\u001b[0m\u001b[1;36m2\u001b[0m\u001b[1;33m]\u001b[0m\u001b[1;33m,\u001b[0m \u001b[0mnum\u001b[0m\u001b[1;33m)\u001b[0m\u001b[1;33m\u001b[0m\u001b[1;33m\u001b[0m\u001b[0m\n\u001b[0m\u001b[0;32m      5\u001b[0m     \u001b[0mnum\u001b[0m \u001b[1;33m+=\u001b[0m \u001b[1;36m1\u001b[0m\u001b[1;33m\u001b[0m\u001b[1;33m\u001b[0m\u001b[0m\n",
      "\u001b[1;32m<ipython-input-3-2a32c1a6ad78>\u001b[0m in \u001b[0;36mhcup_pull\u001b[1;34m(state, analysis_selection, classifier_selection, diagnosis_selection, num)\u001b[0m\n\u001b[0;32m     18\u001b[0m     \u001b[0mtime\u001b[0m\u001b[1;33m.\u001b[0m\u001b[0msleep\u001b[0m\u001b[1;33m(\u001b[0m\u001b[1;36m4\u001b[0m\u001b[1;33m)\u001b[0m\u001b[1;33m\u001b[0m\u001b[1;33m\u001b[0m\u001b[0m\n\u001b[0;32m     19\u001b[0m \u001b[1;33m\u001b[0m\u001b[0m\n\u001b[1;32m---> 20\u001b[1;33m     \u001b[0mcreate_analysis\u001b[0m \u001b[1;33m=\u001b[0m \u001b[0mdriver\u001b[0m\u001b[1;33m.\u001b[0m\u001b[0mfind_element_by_class_name\u001b[0m\u001b[1;33m(\u001b[0m\u001b[1;34m\"create-analysis\"\u001b[0m\u001b[1;33m)\u001b[0m\u001b[1;33m\u001b[0m\u001b[1;33m\u001b[0m\u001b[0m\n\u001b[0m\u001b[0;32m     21\u001b[0m     \u001b[0mcreate_analysis\u001b[0m\u001b[1;33m.\u001b[0m\u001b[0mclick\u001b[0m\u001b[1;33m(\u001b[0m\u001b[1;33m)\u001b[0m\u001b[1;33m\u001b[0m\u001b[1;33m\u001b[0m\u001b[0m\n\u001b[0;32m     22\u001b[0m     \u001b[0mtime\u001b[0m\u001b[1;33m.\u001b[0m\u001b[0msleep\u001b[0m\u001b[1;33m(\u001b[0m\u001b[1;36m2\u001b[0m\u001b[1;33m)\u001b[0m\u001b[1;33m\u001b[0m\u001b[1;33m\u001b[0m\u001b[0m\n",
      "\u001b[1;32m~\\.virtualenvs\\AHRQ-ebGvUS5S\\lib\\site-packages\\selenium\\webdriver\\remote\\webdriver.py\u001b[0m in \u001b[0;36mfind_element_by_class_name\u001b[1;34m(self, name)\u001b[0m\n\u001b[0;32m    562\u001b[0m             \u001b[0melement\u001b[0m \u001b[1;33m=\u001b[0m \u001b[0mdriver\u001b[0m\u001b[1;33m.\u001b[0m\u001b[0mfind_element_by_class_name\u001b[0m\u001b[1;33m(\u001b[0m\u001b[1;34m'foo'\u001b[0m\u001b[1;33m)\u001b[0m\u001b[1;33m\u001b[0m\u001b[1;33m\u001b[0m\u001b[0m\n\u001b[0;32m    563\u001b[0m         \"\"\"\n\u001b[1;32m--> 564\u001b[1;33m         \u001b[1;32mreturn\u001b[0m \u001b[0mself\u001b[0m\u001b[1;33m.\u001b[0m\u001b[0mfind_element\u001b[0m\u001b[1;33m(\u001b[0m\u001b[0mby\u001b[0m\u001b[1;33m=\u001b[0m\u001b[0mBy\u001b[0m\u001b[1;33m.\u001b[0m\u001b[0mCLASS_NAME\u001b[0m\u001b[1;33m,\u001b[0m \u001b[0mvalue\u001b[0m\u001b[1;33m=\u001b[0m\u001b[0mname\u001b[0m\u001b[1;33m)\u001b[0m\u001b[1;33m\u001b[0m\u001b[1;33m\u001b[0m\u001b[0m\n\u001b[0m\u001b[0;32m    565\u001b[0m \u001b[1;33m\u001b[0m\u001b[0m\n\u001b[0;32m    566\u001b[0m     \u001b[1;32mdef\u001b[0m \u001b[0mfind_elements_by_class_name\u001b[0m\u001b[1;33m(\u001b[0m\u001b[0mself\u001b[0m\u001b[1;33m,\u001b[0m \u001b[0mname\u001b[0m\u001b[1;33m)\u001b[0m\u001b[1;33m:\u001b[0m\u001b[1;33m\u001b[0m\u001b[1;33m\u001b[0m\u001b[0m\n",
      "\u001b[1;32m~\\.virtualenvs\\AHRQ-ebGvUS5S\\lib\\site-packages\\selenium\\webdriver\\remote\\webdriver.py\u001b[0m in \u001b[0;36mfind_element\u001b[1;34m(self, by, value)\u001b[0m\n\u001b[0;32m    976\u001b[0m         return self.execute(Command.FIND_ELEMENT, {\n\u001b[0;32m    977\u001b[0m             \u001b[1;34m'using'\u001b[0m\u001b[1;33m:\u001b[0m \u001b[0mby\u001b[0m\u001b[1;33m,\u001b[0m\u001b[1;33m\u001b[0m\u001b[1;33m\u001b[0m\u001b[0m\n\u001b[1;32m--> 978\u001b[1;33m             'value': value})['value']\n\u001b[0m\u001b[0;32m    979\u001b[0m \u001b[1;33m\u001b[0m\u001b[0m\n\u001b[0;32m    980\u001b[0m     \u001b[1;32mdef\u001b[0m \u001b[0mfind_elements\u001b[0m\u001b[1;33m(\u001b[0m\u001b[0mself\u001b[0m\u001b[1;33m,\u001b[0m \u001b[0mby\u001b[0m\u001b[1;33m=\u001b[0m\u001b[0mBy\u001b[0m\u001b[1;33m.\u001b[0m\u001b[0mID\u001b[0m\u001b[1;33m,\u001b[0m \u001b[0mvalue\u001b[0m\u001b[1;33m=\u001b[0m\u001b[1;32mNone\u001b[0m\u001b[1;33m)\u001b[0m\u001b[1;33m:\u001b[0m\u001b[1;33m\u001b[0m\u001b[1;33m\u001b[0m\u001b[0m\n",
      "\u001b[1;32m~\\.virtualenvs\\AHRQ-ebGvUS5S\\lib\\site-packages\\selenium\\webdriver\\remote\\webdriver.py\u001b[0m in \u001b[0;36mexecute\u001b[1;34m(self, driver_command, params)\u001b[0m\n\u001b[0;32m    319\u001b[0m         \u001b[0mresponse\u001b[0m \u001b[1;33m=\u001b[0m \u001b[0mself\u001b[0m\u001b[1;33m.\u001b[0m\u001b[0mcommand_executor\u001b[0m\u001b[1;33m.\u001b[0m\u001b[0mexecute\u001b[0m\u001b[1;33m(\u001b[0m\u001b[0mdriver_command\u001b[0m\u001b[1;33m,\u001b[0m \u001b[0mparams\u001b[0m\u001b[1;33m)\u001b[0m\u001b[1;33m\u001b[0m\u001b[1;33m\u001b[0m\u001b[0m\n\u001b[0;32m    320\u001b[0m         \u001b[1;32mif\u001b[0m \u001b[0mresponse\u001b[0m\u001b[1;33m:\u001b[0m\u001b[1;33m\u001b[0m\u001b[1;33m\u001b[0m\u001b[0m\n\u001b[1;32m--> 321\u001b[1;33m             \u001b[0mself\u001b[0m\u001b[1;33m.\u001b[0m\u001b[0merror_handler\u001b[0m\u001b[1;33m.\u001b[0m\u001b[0mcheck_response\u001b[0m\u001b[1;33m(\u001b[0m\u001b[0mresponse\u001b[0m\u001b[1;33m)\u001b[0m\u001b[1;33m\u001b[0m\u001b[1;33m\u001b[0m\u001b[0m\n\u001b[0m\u001b[0;32m    322\u001b[0m             response['value'] = self._unwrap_value(\n\u001b[0;32m    323\u001b[0m                 response.get('value', None))\n",
      "\u001b[1;32m~\\.virtualenvs\\AHRQ-ebGvUS5S\\lib\\site-packages\\selenium\\webdriver\\remote\\errorhandler.py\u001b[0m in \u001b[0;36mcheck_response\u001b[1;34m(self, response)\u001b[0m\n\u001b[0;32m    240\u001b[0m                 \u001b[0malert_text\u001b[0m \u001b[1;33m=\u001b[0m \u001b[0mvalue\u001b[0m\u001b[1;33m[\u001b[0m\u001b[1;34m'alert'\u001b[0m\u001b[1;33m]\u001b[0m\u001b[1;33m.\u001b[0m\u001b[0mget\u001b[0m\u001b[1;33m(\u001b[0m\u001b[1;34m'text'\u001b[0m\u001b[1;33m)\u001b[0m\u001b[1;33m\u001b[0m\u001b[1;33m\u001b[0m\u001b[0m\n\u001b[0;32m    241\u001b[0m             \u001b[1;32mraise\u001b[0m \u001b[0mexception_class\u001b[0m\u001b[1;33m(\u001b[0m\u001b[0mmessage\u001b[0m\u001b[1;33m,\u001b[0m \u001b[0mscreen\u001b[0m\u001b[1;33m,\u001b[0m \u001b[0mstacktrace\u001b[0m\u001b[1;33m,\u001b[0m \u001b[0malert_text\u001b[0m\u001b[1;33m)\u001b[0m\u001b[1;33m\u001b[0m\u001b[1;33m\u001b[0m\u001b[0m\n\u001b[1;32m--> 242\u001b[1;33m         \u001b[1;32mraise\u001b[0m \u001b[0mexception_class\u001b[0m\u001b[1;33m(\u001b[0m\u001b[0mmessage\u001b[0m\u001b[1;33m,\u001b[0m \u001b[0mscreen\u001b[0m\u001b[1;33m,\u001b[0m \u001b[0mstacktrace\u001b[0m\u001b[1;33m)\u001b[0m\u001b[1;33m\u001b[0m\u001b[1;33m\u001b[0m\u001b[0m\n\u001b[0m\u001b[0;32m    243\u001b[0m \u001b[1;33m\u001b[0m\u001b[0m\n\u001b[0;32m    244\u001b[0m     \u001b[1;32mdef\u001b[0m \u001b[0m_value_or_default\u001b[0m\u001b[1;33m(\u001b[0m\u001b[0mself\u001b[0m\u001b[1;33m,\u001b[0m \u001b[0mobj\u001b[0m\u001b[1;33m,\u001b[0m \u001b[0mkey\u001b[0m\u001b[1;33m,\u001b[0m \u001b[0mdefault\u001b[0m\u001b[1;33m)\u001b[0m\u001b[1;33m:\u001b[0m\u001b[1;33m\u001b[0m\u001b[1;33m\u001b[0m\u001b[0m\n",
      "\u001b[1;31mNoSuchWindowException\u001b[0m: Message: no such window: target window already closed\nfrom unknown error: web view not found\n  (Session info: chrome=77.0.3865.90)\n"
     ]
    }
   ],
   "source": [
    "num = 0\n",
    "for parameters in selections_list:\n",
    "    # this is really slow all of a sudden    \n",
    "    hcup_pull(state, parameters[0], parameters[1], parameters[2], num)\n",
    "    num += 1"
   ]
  },
  {
   "cell_type": "code",
   "execution_count": null,
   "metadata": {},
   "outputs": [],
   "source": []
  }
 ],
 "metadata": {
  "kernelspec": {
   "display_name": "CommunityConnector-5ki-11tk",
   "language": "python",
   "name": "communityconnector-5ki-11tk"
  },
  "language_info": {
   "codemirror_mode": {
    "name": "ipython",
    "version": 3
   },
   "file_extension": ".py",
   "mimetype": "text/x-python",
   "name": "python",
   "nbconvert_exporter": "python",
   "pygments_lexer": "ipython3",
   "version": "3.7.3"
  }
 },
 "nbformat": 4,
 "nbformat_minor": 2
}
