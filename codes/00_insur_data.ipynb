{
 "cells": [
  {
   "cell_type": "code",
   "execution_count": null,
   "metadata": {},
   "outputs": [],
   "source": [
    "# CPS ASEC: https://www.census.gov/programs-surveys/cps/data-detail.html\n",
    "# https://www.census.gov/cps/data/cpstablecreator.html?#\n",
    "# install: https://dataferrett.census.gov/?#\n",
    "# only found by state\n",
    "\n",
    "# SIPP\n",
    "# Codebook: https://www.census.gov/data-tools/demo/sipp/#/\n",
    "# Data: https://thedataweb.rm.census.gov/ftp/sipp_ftp.html?#\n",
    "# --> Wave 1 Data File\n",
    "# OR: https://www.census.gov/programs-surveys/sipp/data/datasets/2014-panel/wave-3.html\n",
    "# not sure if this is at the county/location level??\n",
    "# DataFerrett doesn't work??\n",
    "\n",
    "# SAHIE API:\n",
    "# https://www.census.gov/data/developers/data-sets/Health-Insurance-Statistics.html\n",
    "# incomes/poverty ratios\n",
    "\n",
    "# QHP Landscape Individual Market Medical\n",
    "# https://data.healthcare.gov/dataset/QHP-Landscape-Individual-Market-Medical/b8in-sz6k\n",
    "# by state and county\n",
    "\n",
    "# Insurer participation by county\n",
    "# https://www.kff.org/health-reform/issue-brief/insurer-participation-on-aca-marketplaces-2014-2019/\n",
    "\n",
    "# Others:\n",
    "# https://www.cms.gov/CCIIO/Resources/Data-Resources/marketplace-puf.html"
   ]
  }
 ],
 "metadata": {
  "kernelspec": {
   "display_name": "AHRQ-ebGvUS5S",
   "language": "python",
   "name": "ahrq-ebgvus5s"
  },
  "language_info": {
   "codemirror_mode": {
    "name": "ipython",
    "version": 3
   },
   "file_extension": ".py",
   "mimetype": "text/x-python",
   "name": "python",
   "nbconvert_exporter": "python",
   "pygments_lexer": "ipython3",
   "version": "3.7.3"
  }
 },
 "nbformat": 4,
 "nbformat_minor": 2
}
