{
 "cells": [
  {
   "cell_type": "code",
   "execution_count": 31,
   "metadata": {},
   "outputs": [
    {
     "name": "stdout",
     "output_type": "stream",
     "text": [
      "N:\\Transfer\\KSkvoretz\\AHRQ\\data\\01_Demographic\\cleaned\n"
     ]
    }
   ],
   "source": [
    "import pandas as pd\n",
    "import numpy as np\n",
    "import os\n",
    "\n",
    "read_state = 'Colorado'\n",
    "n_drive = 'N:/Transfer/KSkvoretz/AHRQ/data/01_Demographic/RWJF'\n",
    "\n",
    "from pathlib import Path\n",
    "output = os.path.join(Path(n_drive).parents[0], 'cleaned')\n",
    "print(output)"
   ]
  },
  {
   "cell_type": "code",
   "execution_count": 20,
   "metadata": {},
   "outputs": [],
   "source": [
    "# TODO: combine all state files instead of just a single state\n",
    "\n",
    "# files = os.listdir('../input/')\n",
    "# print(files[:5])\n",
    "\n",
    "# np.where('Additional' in files)\n",
    "\n",
    "# addl_index = ['Additional' in filename for filename in files]\n",
    "# # files.iloc[addl_index]\n",
    "\n",
    "# # measure_data =\n",
    "# # addtl_data =\n",
    "# # output these files"
   ]
  },
  {
   "cell_type": "code",
   "execution_count": 23,
   "metadata": {},
   "outputs": [],
   "source": [
    "def replace_column_names(df):\n",
    "    colnames = df.head(1).values\n",
    "    colnames = list(colnames)[0]\n",
    "    df.columns = colnames\n",
    "    \n",
    "    # drop the first row that contains the column names\n",
    "    df.drop(df.index[0], inplace = True)\n",
    "    return df\n",
    "\n",
    "def concatenate_column_names(df):\n",
    "    newcols = []\n",
    "    for col in df.columns.values:\n",
    "        if col in [0,'FIPS','State','County']:\n",
    "            newcols.append(col)\n",
    "        else:\n",
    "            if col not in ['95% CI - Low','95% CI - High','Z-Score']:\n",
    "                metric = col\n",
    "                newcols.append(col)\n",
    "            else:\n",
    "                newcols.append(metric + \"_\" + col)\n",
    "    return newcols"
   ]
  },
  {
   "cell_type": "code",
   "execution_count": 24,
   "metadata": {
    "scrolled": true
   },
   "outputs": [
    {
     "name": "stdout",
     "output_type": "stream",
     "text": [
      "   0   FIPS     State     County Years of Potential Life Lost Rate  \\\n",
      "1  1  08000  Colorado        NaN                      5887.2369939   \n",
      "2  2  08001  Colorado      Adams                      6436.1631926   \n",
      "3  3  08003  Colorado    Alamosa                      8727.2741294   \n",
      "4  4  08005  Colorado   Arapahoe                      5344.2891787   \n",
      "5  5  08007  Colorado  Archuleta                       5192.714494   \n",
      "\n",
      "  Years of Potential Life Lost Rate_95% CI - Low  \\\n",
      "1                                   5814.8281531   \n",
      "2                                   6190.2038994   \n",
      "3                                   7079.7711582   \n",
      "4                                   5137.9725034   \n",
      "5                                   3664.6257899   \n",
      "\n",
      "  Years of Potential Life Lost Rate_95% CI - High  \\\n",
      "1                                    5959.6458347   \n",
      "2                                    6682.1224859   \n",
      "3                                    10374.777101   \n",
      "4                                    5550.6058541   \n",
      "5                                    6720.8031981   \n",
      "\n",
      "  Years of Potential Life Lost Rate_Z-Score YPLL Rate (Black)  \\\n",
      "1                                       NaN               NaN   \n",
      "2                              -0.165593409      9518.0236822   \n",
      "3                              0.8987068583               NaN   \n",
      "4                               -0.67280665      7629.0449412   \n",
      "5                              -0.743218333               NaN   \n",
      "\n",
      "  YPLL Rate (Hispanic)  ... % Drive Alone_95% CI - High % Drive Alone_Z-Score  \\\n",
      "1                  NaN  ...                75.505672156                   NaN   \n",
      "2         5643.3909112  ...                78.606728054          0.7322671972   \n",
      "3         9773.6748406  ...                81.011225754          0.4622985947   \n",
      "4         4591.3481403  ...                78.018385716          0.6903580293   \n",
      "5                  NaN  ...                76.097162861          -0.221637463   \n",
      "\n",
      "  % Drive Alone (Black) % Drive Alone (Hispanic) % Drive Alone (White)  \\\n",
      "1                   NaN                      NaN                   NaN   \n",
      "2          77.229840231             77.409952862          82.582465355   \n",
      "3                   NaN             74.107402032          76.583353555   \n",
      "4          72.876980595              77.23733234          81.579660649   \n",
      "5                   NaN             73.421588595          72.213930348   \n",
      "\n",
      "  # Workers who Drive Alone % Long Commute - Drives Alone  \\\n",
      "1                   2062986                          34.7   \n",
      "2                    188513                          45.1   \n",
      "3                      4863                          11.4   \n",
      "4                    252682                          40.3   \n",
      "5                      3866                          13.2   \n",
      "\n",
      "  % Long Commute - Drives Alone_95% CI - Low  \\\n",
      "1                               34.384761546   \n",
      "2                               43.844688063   \n",
      "3                               8.2028985513   \n",
      "4                               39.384799656   \n",
      "5                               9.6997781872   \n",
      "\n",
      "  % Long Commute - Drives Alone_95% CI - High  \\\n",
      "1                                35.015238454   \n",
      "2                                46.355311937   \n",
      "3                                14.597101449   \n",
      "4                                41.215200344   \n",
      "5                                16.700221813   \n",
      "\n",
      "  % Long Commute - Drives Alone_Z-Score  \n",
      "1                                   NaN  \n",
      "2                          1.1550061758  \n",
      "3                          -1.271911093  \n",
      "4                          0.8093324996  \n",
      "5                          -1.142283464  \n",
      "\n",
      "[5 rows x 163 columns]\n"
     ]
    }
   ],
   "source": [
    "measure_data = pd.read_csv(os.path.join(n_drive, f'Measure_Data_{read_state}.csv'))\n",
    "measure_data = replace_column_names(measure_data)\n",
    "measure_data.columns = concatenate_column_names(measure_data)\n",
    "print(measure_data.head())"
   ]
  },
  {
   "cell_type": "code",
   "execution_count": 26,
   "metadata": {
    "scrolled": true
   },
   "outputs": [
    {
     "name": "stdout",
     "output_type": "stream",
     "text": [
      "   0   FIPS     State     County Life Expectancy Life Expectancy_95% CI - Low  \\\n",
      "1  1  08000  Colorado        NaN     80.45991829                 80.379717596   \n",
      "2  2  08001  Colorado      Adams    79.157691889                 78.871805035   \n",
      "3  3  08003  Colorado    Alamosa    76.542927339                 75.127568432   \n",
      "4  4  08005  Colorado   Arapahoe    81.165232042                  80.92353947   \n",
      "5  5  08007  Colorado  Archuleta    82.696267974                 81.012586012   \n",
      "\n",
      "  Life Expectancy_95% CI - High Life Expectancy (Black)  \\\n",
      "1                  80.540118984                     NaN   \n",
      "2                  79.443578743            76.071334644   \n",
      "3                  77.958286247                     NaN   \n",
      "4                  81.406924614            78.915105509   \n",
      "5                  84.379949937                     NaN   \n",
      "\n",
      "  Life Expectancy (Hispanic) Life Expectancy (White)  ...    % Hispanic  \\\n",
      "1                        NaN                     NaN  ...  21.521149589   \n",
      "2               82.409555254            78.432182022  ...  40.046545183   \n",
      "3               74.913856343            77.220985344  ...  45.713249955   \n",
      "4               84.995062744            80.970390376  ...  19.276357122   \n",
      "5               80.146040858             83.17403598  ...  18.047315058   \n",
      "\n",
      "  # Non-Hispanic White % Non-Hispanic White # Not Proficient in English  \\\n",
      "1              3827750         68.265469434                      156609   \n",
      "2               252321         50.146571615                       30067   \n",
      "3                 8053         48.655670352                         681   \n",
      "4               388774         60.457630176                       23983   \n",
      "5                10243          76.92827638                         107   \n",
      "\n",
      "  % Not Proficient in English % Not Proficient in English_95% CI - Low  \\\n",
      "1                3.0693991242                             2.9844982534   \n",
      "2                6.6659572157                             6.2131827744   \n",
      "3                4.4696770806                             2.6395181639   \n",
      "4                4.0908819541                             3.8332274003   \n",
      "5                0.8937520882                                        0   \n",
      "\n",
      "  % Not Proficient in English_95% CI - High      % Female # Rural  \\\n",
      "1                              3.1542999949  49.665498754  696435   \n",
      "2                              7.1187316569  49.510202378   15988   \n",
      "3                              6.2998359973  49.761343725    5694   \n",
      "4                              4.3485365079  50.499804059    9011   \n",
      "5                              1.9401560334  49.823507323    7175   \n",
      "\n",
      "        % Rural  \n",
      "1  13.847839694  \n",
      "2  3.6204464191  \n",
      "3  36.866299773  \n",
      "4  1.5753413881  \n",
      "5  59.376034426  \n",
      "\n",
      "[5 rows x 112 columns]\n"
     ]
    }
   ],
   "source": [
    "addtl_data = pd.read_csv(os.path.join(n_drive, f'Additional_Data{read_state}.csv'))\n",
    "addtl_data = replace_column_names(addtl_data)\n",
    "addtl_data.columns = concatenate_column_names(addtl_data)\n",
    "print(addtl_data.head())"
   ]
  },
  {
   "cell_type": "code",
   "execution_count": 27,
   "metadata": {},
   "outputs": [],
   "source": [
    "# combine measure data with additional data\n",
    "rwjf_data = pd.merge(measure_data, addtl_data, on = ['FIPS','State','County'])\n",
    "assert((measure_data.shape[0]) == (addtl_data.shape[0]) == (rwjf_data.shape[0]))"
   ]
  },
  {
   "cell_type": "code",
   "execution_count": 32,
   "metadata": {},
   "outputs": [],
   "source": [
    "rwjf_data.to_csv(os.path.join(output, 'RWJF_cleaned.csv'))"
   ]
  }
 ],
 "metadata": {
  "kernelspec": {
   "display_name": "AHRQ-ebGvUS5S",
   "language": "python",
   "name": "ahrq-ebgvus5s"
  },
  "language_info": {
   "codemirror_mode": {
    "name": "ipython",
    "version": 3
   },
   "file_extension": ".py",
   "mimetype": "text/x-python",
   "name": "python",
   "nbconvert_exporter": "python",
   "pygments_lexer": "ipython3",
   "version": "3.7.3"
  }
 },
 "nbformat": 4,
 "nbformat_minor": 2
}
